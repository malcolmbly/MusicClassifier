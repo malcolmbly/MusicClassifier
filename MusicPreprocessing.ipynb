{
 "cells": [
  {
   "cell_type": "code",
   "execution_count": 70,
   "metadata": {},
   "outputs": [],
   "source": [
    "#The first step is to extract/create data from the music (.wav) files using librosa\n",
    "import librosa\n",
    "import os\n",
    "import pandas as pd\n",
    "import pickle\n",
    "import csv"
   ]
  },
  {
   "cell_type": "code",
   "execution_count": 71,
   "metadata": {
    "scrolled": true
   },
   "outputs": [],
   "source": [
    "genres = 'blues classical country disco hiphop jazz metal pop reggae rock'.split()\n",
    "\n",
    "#adding column names to csv file\n",
    "with open(\"songData.csv\", \"w\", newline='') as file:\n",
    "    csvWriter = csv.writer(file)\n",
    "    csvWriter.writerow(['RMS', 'ZeroCrossingRate', 'SpectralBandwidth', 'SpectalCentroid', 'SpectralRolloff', 'MFCCs'] )\n",
    "    \n",
    "#Open each .wav file, use the audio information to generate useful metrics for our data\n",
    "#Metrics including:  root mean square energy, spectral_centroid\n",
    "#spectral_bandwidth, spectral_rolloff, zero_crossing_rate and mfcc (Mel-Frequency Cepstral Coefficients)\n",
    "for g in genres:\n",
    "    for song in os.scandir(f'./genres/{g}'):\n",
    "        track, sr = librosa.load(f'./genres/{g}/{song.name}', duration = 30)\n",
    "        rms = librosa.feature.rms(y = track).reshape(-1,)\n",
    "        zcr = librosa.feature.zero_crossing_rate(track).reshape(-1,)\n",
    "        spec_bw = librosa.feature.spectral_bandwidth(y=track, sr=sr).reshape(-1,)\n",
    "        spec_cent = librosa.feature.spectral_centroid(y = track, sr=sr).reshape(-1,)\n",
    "        rolloff = librosa.feature.spectral_rolloff(y=track, sr=sr).reshape(-1,)\n",
    "        mfcc = librosa.feature.mfcc(y=track, sr=sr)\n",
    "        \n",
    "        items_to_append = (rms, zcr, spec_bw, spec_cent, rolloff)\n",
    "        for c in mfcc:\n",
    "            items_to_append += tuple(c)\n",
    "        \n",
    "        with open(\"songData.csv\", \"a\", newline='') as file:\n",
    "            csvWriter = csv.writer(file)\n",
    "            csvWriter.writerow(items_to_append)"
   ]
  },
  {
   "cell_type": "code",
   "execution_count": null,
   "metadata": {},
   "outputs": [],
   "source": [
    "#saving the created dataset"
   ]
  },
  {
   "cell_type": "code",
   "execution_count": null,
   "metadata": {},
   "outputs": [],
   "source": [
    "#creating dummy variables and standardizing the quantitative values"
   ]
  }
 ],
 "metadata": {
  "kernelspec": {
   "display_name": "Python 3",
   "language": "python",
   "name": "python3"
  },
  "language_info": {
   "codemirror_mode": {
    "name": "ipython",
    "version": 3
   },
   "file_extension": ".py",
   "mimetype": "text/x-python",
   "name": "python",
   "nbconvert_exporter": "python",
   "pygments_lexer": "ipython3",
   "version": "3.8.5"
  }
 },
 "nbformat": 4,
 "nbformat_minor": 4
}
