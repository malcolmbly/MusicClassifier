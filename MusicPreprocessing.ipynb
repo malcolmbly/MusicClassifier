{
 "cells": [
  {
   "cell_type": "code",
   "execution_count": 1,
   "metadata": {},
   "outputs": [],
   "source": [
    "#The first step is to extract/create data from the music (.wav) files using librosa\n",
    "import librosa\n",
    "import os\n",
    "import pandas as pd\n",
    "import pickle\n",
    "import numpy as np"
   ]
  },
  {
   "cell_type": "code",
   "execution_count": 9,
   "metadata": {
    "scrolled": true
   },
   "outputs": [
    {
     "name": "stdout",
     "output_type": "stream",
     "text": [
      "[[-2.11484650e+02 -2.08944809e+02 -1.93908890e+02 ... -9.66379395e+01\n",
      "  -1.09999146e+02 -8.60244293e+01]\n",
      " [ 9.90229645e+01  1.01246780e+02  1.02243958e+02 ...  1.53137741e+02\n",
      "   1.50079346e+02  1.38842896e+02]\n",
      " [-1.06346970e+01 -9.34669876e+00  1.91543400e+00 ... -6.27915421e+01\n",
      "  -5.07951355e+01 -3.68518906e+01]\n",
      " ...\n",
      " [ 8.94441223e+00  6.88274527e+00  3.65002537e+00 ... -1.29259109e+00\n",
      "  -2.85715318e+00 -7.59227753e+00]\n",
      " [ 3.07485199e+00  4.56672573e+00  4.78899765e+00 ... -1.30038376e+01\n",
      "  -7.57468748e+00 -9.73560810e+00]\n",
      " [ 5.04152775e+00  2.89663172e+00  9.40246463e-01 ... -1.00848560e+01\n",
      "  -7.55533791e+00 -3.09786592e-02]]\n"
     ]
    },
    {
     "ename": "TypeError",
     "evalue": "only integer scalar arrays can be converted to a scalar index",
     "output_type": "error",
     "traceback": [
      "\u001b[1;31m---------------------------------------------------------------------------\u001b[0m",
      "\u001b[1;31mTypeError\u001b[0m                                 Traceback (most recent call last)",
      "\u001b[1;32m<ipython-input-9-7fc79a909592>\u001b[0m in \u001b[0;36m<module>\u001b[1;34m\u001b[0m\n\u001b[0;32m     19\u001b[0m         \u001b[0mprint\u001b[0m\u001b[1;33m(\u001b[0m\u001b[0mmfcc\u001b[0m\u001b[1;33m)\u001b[0m\u001b[1;33m\u001b[0m\u001b[1;33m\u001b[0m\u001b[0m\n\u001b[0;32m     20\u001b[0m         \u001b[1;31m#for c in mfcc:\u001b[0m\u001b[1;33m\u001b[0m\u001b[1;33m\u001b[0m\u001b[1;33m\u001b[0m\u001b[0m\n\u001b[1;32m---> 21\u001b[1;33m         \u001b[0mnp\u001b[0m\u001b[1;33m.\u001b[0m\u001b[0mconcatenate\u001b[0m\u001b[1;33m(\u001b[0m\u001b[0mitems_to_append\u001b[0m\u001b[1;33m,\u001b[0m \u001b[0mc\u001b[0m\u001b[1;33m)\u001b[0m\u001b[1;33m\u001b[0m\u001b[1;33m\u001b[0m\u001b[0m\n\u001b[0m\u001b[0;32m     22\u001b[0m \u001b[1;33m\u001b[0m\u001b[0m\n\u001b[0;32m     23\u001b[0m         \u001b[0mnp\u001b[0m\u001b[1;33m.\u001b[0m\u001b[0mconcatenate\u001b[0m\u001b[1;33m(\u001b[0m\u001b[0mitems_to_append\u001b[0m\u001b[1;33m,\u001b[0m \u001b[0mgenre_label\u001b[0m\u001b[1;33m)\u001b[0m\u001b[1;33m\u001b[0m\u001b[1;33m\u001b[0m\u001b[0m\n",
      "\u001b[1;32m<__array_function__ internals>\u001b[0m in \u001b[0;36mconcatenate\u001b[1;34m(*args, **kwargs)\u001b[0m\n",
      "\u001b[1;31mTypeError\u001b[0m: only integer scalar arrays can be converted to a scalar index"
     ]
    }
   ],
   "source": [
    "genres = 'blues classical country disco hiphop jazz metal pop reggae rock'.split()\n",
    "    \n",
    "#Open each .wav file, use the audio information to generate useful metrics for our data\n",
    "#Metrics including:  root mean square energy, spectral_centroid\n",
    "#spectral_bandwidth, spectral_rolloff, zero_crossing_rate and mfcc (Mel-Frequency Cepstral Coefficients)\n",
    "dataset = []\n",
    "for g in genres:\n",
    "    for song in os.scandir(f'./genres/{g}'):\n",
    "        genre_label = g\n",
    "        track, sr = librosa.load(f'./genres/{g}/{song.name}', duration = 30)\n",
    "        rms = librosa.feature.rms(y = track).reshape(-1,)\n",
    "        zcr = librosa.feature.zero_crossing_rate(track).reshape(-1,)\n",
    "        spec_bw = librosa.feature.spectral_bandwidth(y=track, sr=sr).reshape(-1,)\n",
    "        spec_cent = librosa.feature.spectral_centroid(y = track, sr=sr).reshape(-1,)\n",
    "        rolloff = librosa.feature.spectral_rolloff(y=track, sr=sr).reshape(-1,)\n",
    "        mfcc = librosa.feature.mfcc(y=track, sr=sr)\n",
    "        \n",
    "        items_to_append = [rms, zcr, spec_bw, spec_cent, rolloff]\n",
    "        for c in mfcc:\n",
    "            items_to_append.append(c)\n",
    "            \n",
    "        items_to_append.append(genre_label)\n",
    "        \n",
    "        dataset.append(items_to_append)"
   ]
  },
  {
   "cell_type": "code",
   "execution_count": null,
   "metadata": {},
   "outputs": [],
   "source": [
    "pickle.dump(dataset, open( \"songData.p\", \"wb\" ) )"
   ]
  },
  {
   "cell_type": "code",
   "execution_count": null,
   "metadata": {},
   "outputs": [],
   "source": [
    "data = pickle.load( open( \"songData.p\", \"rb\" ) )\n",
    "raw_data = data.copy()"
   ]
  },
  {
   "cell_type": "code",
   "execution_count": null,
   "metadata": {},
   "outputs": [],
   "source": [
    "features = []\n",
    "label = []\n",
    "for i in range(len(raw_data)):\n",
    "    features.append(raw_data[i][:-1])\n",
    "    label.append(raw_data[i][-1])"
   ]
  },
  {
   "cell_type": "code",
   "execution_count": null,
   "metadata": {},
   "outputs": [],
   "source": [
    "feature_df = pd.DataFrame(data = features)\n",
    "label_df = pd.DataFrame(data = label)\n",
    "feature_df.head()"
   ]
  },
  {
   "cell_type": "code",
   "execution_count": null,
   "metadata": {},
   "outputs": [],
   "source": [
    "feature_df = feature_df.drop(432)\n",
    "label_df = label_df.drop(432)"
   ]
  },
  {
   "cell_type": "code",
   "execution_count": null,
   "metadata": {},
   "outputs": [],
   "source": [
    "# standardizing each feature\n",
    "\n",
    "# calculating average for each feature\n",
    "# since each sample has the same number of values, we can just average the averages.\n",
    "feature_average = []\n",
    "for c in range(len(feature_df.columns)):\n",
    "    sub_average = []\n",
    "    for sample in feature_df.iloc[:][c].values:\n",
    "        sub_average.append(np.average(sample))\n",
    "        \n",
    "    feature_average.append(np.average(sub_average))\n",
    "\n",
    "# calculating standard deviation\n",
    "n_population = [] # total number of measurements per feature(accounting for each one's length in time)\n",
    "feature_stdev = [] # the end goal to calculate for each feature so that I can scale the entire feature\n",
    "sample_stdev_num = [] # the numerator of the stdev for each sample\n",
    "sample_stdev_num_sum = [] #the sum of each numerator so that the stdev is calculated for the entire population\n",
    "\n",
    "for c in range(len(feature_df.columns)):\n",
    "    n_population.append(len(feature_df)*len(feature_df.iloc[0][c]))\n",
    "    sample_stdev_num = []\n",
    "    sample_stdev_num_sum = []\n",
    "    for sample in feature_df.iloc[:][c].values:\n",
    "        sample_stdev_num.append(np.square(sample-feature_average[c]))\n",
    "        \n",
    "    sample_stdev_num_sum = np.sum(sample_stdev_num)\n",
    "    feature_stdev.append(np.sqrt(sample_stdev_num_sum/n_population[c]))\n",
    "     \n",
    "\n",
    "# standardizing all features now that we know stdev and the mean value\n",
    "for c in range(len(feature_df.columns)):\n",
    "    for i in range(len(feature_df.iloc[:][c])):\n",
    "        feature_df.iloc[i][c] = (feature_df.iloc[i][c]-feature_average[c])/feature_stdev[c]"
   ]
  },
  {
   "cell_type": "code",
   "execution_count": null,
   "metadata": {},
   "outputs": [],
   "source": [
    "label_df = pd.get_dummies(label_df)\n",
    "feature_df.columns =(\"RMS\", \"ZCR\", \"Spec_Bandwidth\", \"Spec_Centroid\", \"Spectral_Rolloff\", \"MFCC1\"\n",
    "                            ,\"MFCC2\", \"MFCC3\", \"MFCC4\", \"MFCC5\", \"MFCC6\", \"MFCC7\"\n",
    "                            , \"MFCC8\", \"MFCC9\", \"MFCC10\", \"MFCC11\", \"MFCC12\", \"MFCC13\"\n",
    "                            , \"MFCC14\", \"MFCC15\", \"MFCC16\", \"MFCC17\", \"MFCC18\", \"MFCC19\", \"MFCC20\")\n",
    "\n",
    "label_df.columns =(\"Blues\", \"Classical\", \"Country\", \"Disco\", \"Hiphop\", \"Jazz\", \"Metal\", \"Pop\", \"Reggae\", \"Rock\")"
   ]
  },
  {
   "cell_type": "code",
   "execution_count": null,
   "metadata": {},
   "outputs": [],
   "source": [
    "pickle.dump( feature_df, open( \"preprocessedFeat.p\", \"wb\" ) )\n",
    "pickle.dump( label_df, open( \"preprocessedLabel.p\", \"wb\" ) )"
   ]
  }
 ],
 "metadata": {
  "kernelspec": {
   "display_name": "Python 3",
   "language": "python",
   "name": "python3"
  },
  "language_info": {
   "codemirror_mode": {
    "name": "ipython",
    "version": 3
   },
   "file_extension": ".py",
   "mimetype": "text/x-python",
   "name": "python",
   "nbconvert_exporter": "python",
   "pygments_lexer": "ipython3",
   "version": "3.8.5"
  }
 },
 "nbformat": 4,
 "nbformat_minor": 4
}
