{
 "cells": [
  {
   "cell_type": "code",
   "execution_count": 1,
   "metadata": {},
   "outputs": [],
   "source": [
    "import pickle\n",
    "import numpy as np\n",
    "from sklearn.model_selection import train_test_split\n",
    "import pandas as pd\n",
    "\n",
    "\n",
    "#Planned Methods: CNN, KNN, Random Forest, SVM\n",
    "data = pickle.load( open( \"preprocessedFeat.p\", \"rb\" ) )\n",
    "label = pickle.load( open( \"preprocessedLabel.p\", \"rb\" ) )\n",
    "preproc_feat = data.copy()\n",
    "prepoc_label = label.copy()"
   ]
  },
  {
   "cell_type": "code",
   "execution_count": 2,
   "metadata": {},
   "outputs": [],
   "source": [
    "#KNN\n",
    "# 2d feature arrays do not offer a clear way to calculate distances, so I choose to treat each subsample (frame of a song)\n",
    "# as its own individual sample for the sake of KNN distance calculations\n",
    "from sklearn.neighbors import KNeighborsClassifier\n",
    "\n",
    "preproc_feat_knn = pd.DataFrame()\n",
    "\n",
    "\n",
    "for x in preproc_feat.columns:\n",
    "    column_list = []\n",
    "    for i, sample in enumerate(preproc_feat[x]):\n",
    "        for j, number in enumerate(sample):\n",
    "            column_list.append(number)\n",
    "    preproc_feat_knn[x] = column_list\n",
    "    \n",
    "prepoc_label_knn = []   \n",
    "for i in range(len(preproc_feat_knn.iloc[:][0])):\n",
    "    counter = int(i/len(data.iloc[0][0]))\n",
    "    prepoc_label_knn.append(prepoc_label.values[counter])\n",
    "    \n",
    "\n",
    "X_train_knn, X_test_knn, y_train_knn, y_test_knn = train_test_split(preproc_feat_knn, prepoc_label_knn, test_size = 0.2)\n"
   ]
  },
  {
   "cell_type": "code",
   "execution_count": null,
   "metadata": {},
   "outputs": [],
   "source": [
    "knn_model = KNeighborsClassifier(n_neighbors=10)\n",
    "knn_result = knn_model.fit(X_train_knn, y_train_knn)\n",
    "knn_score = knn_model.score(X_test_knn, y_test_knn)"
   ]
  },
  {
   "cell_type": "code",
   "execution_count": 4,
   "metadata": {},
   "outputs": [],
   "source": [
    "#CNN\n",
    "from tensorflow import keras\n",
    "from tensorflow.keras import layers\n",
    "\n",
    "X_train_cnn, X_test_cnn, y_train_cnn, y_test_cnn = train_test_split(preproc_feat, prepoc_label, test_size = 0.2)"
   ]
  },
  {
   "cell_type": "code",
   "execution_count": null,
   "metadata": {},
   "outputs": [],
   "source": []
  },
  {
   "cell_type": "code",
   "execution_count": 6,
   "metadata": {},
   "outputs": [
    {
     "ename": "SyntaxError",
     "evalue": "invalid syntax (<ipython-input-6-cb9adcb71141>, line 1)",
     "output_type": "error",
     "traceback": [
      "\u001b[1;36m  File \u001b[1;32m\"<ipython-input-6-cb9adcb71141>\"\u001b[1;36m, line \u001b[1;32m1\u001b[0m\n\u001b[1;33m    Random Forest\u001b[0m\n\u001b[1;37m           ^\u001b[0m\n\u001b[1;31mSyntaxError\u001b[0m\u001b[1;31m:\u001b[0m invalid syntax\n"
     ]
    }
   ],
   "source": [
    "#Random Forest\n",
    "from sklearn.ensemble import RandomForestClassifier"
   ]
  },
  {
   "cell_type": "code",
   "execution_count": null,
   "metadata": {},
   "outputs": [],
   "source": []
  }
 ],
 "metadata": {
  "kernelspec": {
   "display_name": "Python 3",
   "language": "python",
   "name": "python3"
  },
  "language_info": {
   "codemirror_mode": {
    "name": "ipython",
    "version": 3
   },
   "file_extension": ".py",
   "mimetype": "text/x-python",
   "name": "python",
   "nbconvert_exporter": "python",
   "pygments_lexer": "ipython3",
   "version": "3.8.5"
  }
 },
 "nbformat": 4,
 "nbformat_minor": 4
}
